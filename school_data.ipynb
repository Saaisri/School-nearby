{
 "cells": [
  {
   "cell_type": "code",
   "execution_count": 18,
   "id": "d82ebbc4",
   "metadata": {},
   "outputs": [],
   "source": [
    "import pgeocode"
   ]
  },
  {
   "cell_type": "code",
   "execution_count": 19,
   "id": "2b249d1a-616b-42d6-9f0b-de39d157df87",
   "metadata": {},
   "outputs": [],
   "source": [
    "from geopy.geocoders import Nominatim\n",
    "import pandas as pd\n",
    "from geopy.extra.rate_limiter import RateLimiter"
   ]
  },
  {
   "cell_type": "code",
   "execution_count": 20,
   "id": "7d6b50b9-ac52-441e-9acf-83ec51ba6995",
   "metadata": {},
   "outputs": [],
   "source": [
    "df = pd.read_csv(\"/home/saaisri/Desktop/tact/Flask/School-nearby/elementary-info.csv\")"
   ]
  },
  {
   "cell_type": "code",
   "execution_count": 21,
   "id": "34b81554-2052-45a6-b2c4-362e71460c38",
   "metadata": {},
   "outputs": [],
   "source": [
    "geolocator = Nominatim(user_agent=\"my_request\")"
   ]
  },
  {
   "cell_type": "code",
   "execution_count": 22,
   "id": "7aa6d983-cca2-441b-b7d0-8c79c7eefbb1",
   "metadata": {},
   "outputs": [
    {
     "data": {
      "text/html": [
       "<div>\n",
       "<style scoped>\n",
       "    .dataframe tbody tr th:only-of-type {\n",
       "        vertical-align: middle;\n",
       "    }\n",
       "\n",
       "    .dataframe tbody tr th {\n",
       "        vertical-align: top;\n",
       "    }\n",
       "\n",
       "    .dataframe thead th {\n",
       "        text-align: right;\n",
       "    }\n",
       "</style>\n",
       "<table border=\"1\" class=\"dataframe\">\n",
       "  <thead>\n",
       "    <tr style=\"text-align: right;\">\n",
       "      <th></th>\n",
       "      <th>name</th>\n",
       "      <th>address</th>\n",
       "      <th>website</th>\n",
       "      <th>postal_code</th>\n",
       "      <th>G3</th>\n",
       "      <th>G6</th>\n",
       "      <th>school_level</th>\n",
       "    </tr>\n",
       "  </thead>\n",
       "  <tbody>\n",
       "    <tr>\n",
       "      <th>0</th>\n",
       "      <td>Abbey Lane Public School (Oakville)</td>\n",
       "      <td>55 Elm St, Wallaceburg, Ontario, N8A3M7</td>\n",
       "      <td>http://aawright.lkdsb.net/</td>\n",
       "      <td>N8A3M7</td>\n",
       "      <td>72.5</td>\n",
       "      <td>77.333333</td>\n",
       "      <td>Elementary</td>\n",
       "    </tr>\n",
       "    <tr>\n",
       "      <th>1</th>\n",
       "      <td>A B Ellis Public School (Espanola)</td>\n",
       "      <td>1160 Old Abbey Lane, Oakville, Ontario, L6M1S4</td>\n",
       "      <td>http://abb.hdsb.ca/</td>\n",
       "      <td>L6M1S4</td>\n",
       "      <td>72.5</td>\n",
       "      <td>77.333333</td>\n",
       "      <td>Elementary</td>\n",
       "    </tr>\n",
       "    <tr>\n",
       "      <th>2</th>\n",
       "      <td>Aberarder Central School (Camlachie)</td>\n",
       "      <td>164 Mead Boulevard, Espanola, Ontario, P5E1S7</td>\n",
       "      <td>http://www.rainbowschools.ca/elementary/ab_ell...</td>\n",
       "      <td>P5E1S7</td>\n",
       "      <td>72.5</td>\n",
       "      <td>77.333333</td>\n",
       "      <td>Elementary</td>\n",
       "    </tr>\n",
       "    <tr>\n",
       "      <th>3</th>\n",
       "      <td>Aberdeen Public School (London)</td>\n",
       "      <td>4804 Aberarder Line RR 2, Camlachie, Ontario, ...</td>\n",
       "      <td>http://aberarder.lkdsb.net/</td>\n",
       "      <td>N0N1E0</td>\n",
       "      <td>72.5</td>\n",
       "      <td>77.333333</td>\n",
       "      <td>Elementary</td>\n",
       "    </tr>\n",
       "    <tr>\n",
       "      <th>4</th>\n",
       "      <td>Abbey Lane Public School (Oakville)</td>\n",
       "      <td>55 Elm St, Wallaceburg, Ontario, N8A3M7</td>\n",
       "      <td>http://aawright.lkdsb.net/</td>\n",
       "      <td>N8A3M7</td>\n",
       "      <td>72.5</td>\n",
       "      <td>77.333333</td>\n",
       "      <td>Elementary</td>\n",
       "    </tr>\n",
       "  </tbody>\n",
       "</table>\n",
       "</div>"
      ],
      "text/plain": [
       "                                   name  \\\n",
       "0   Abbey Lane Public School (Oakville)   \n",
       "1    A B Ellis Public School (Espanola)   \n",
       "2  Aberarder Central School (Camlachie)   \n",
       "3       Aberdeen Public School (London)   \n",
       "4   Abbey Lane Public School (Oakville)   \n",
       "\n",
       "                                             address  \\\n",
       "0            55 Elm St, Wallaceburg, Ontario, N8A3M7   \n",
       "1     1160 Old Abbey Lane, Oakville, Ontario, L6M1S4   \n",
       "2      164 Mead Boulevard, Espanola, Ontario, P5E1S7   \n",
       "3  4804 Aberarder Line RR 2, Camlachie, Ontario, ...   \n",
       "4            55 Elm St, Wallaceburg, Ontario, N8A3M7   \n",
       "\n",
       "                                             website postal_code    G3  \\\n",
       "0                         http://aawright.lkdsb.net/      N8A3M7  72.5   \n",
       "1                                http://abb.hdsb.ca/      L6M1S4  72.5   \n",
       "2  http://www.rainbowschools.ca/elementary/ab_ell...      P5E1S7  72.5   \n",
       "3                        http://aberarder.lkdsb.net/      N0N1E0  72.5   \n",
       "4                         http://aawright.lkdsb.net/      N8A3M7  72.5   \n",
       "\n",
       "          G6 school_level  \n",
       "0  77.333333   Elementary  \n",
       "1  77.333333   Elementary  \n",
       "2  77.333333   Elementary  \n",
       "3  77.333333   Elementary  \n",
       "4  77.333333   Elementary  "
      ]
     },
     "execution_count": 22,
     "metadata": {},
     "output_type": "execute_result"
    }
   ],
   "source": [
    "df.head()"
   ]
  },
  {
   "cell_type": "code",
   "execution_count": 28,
   "id": "4defae49",
   "metadata": {},
   "outputs": [],
   "source": [
    "df1 = df['address']"
   ]
  },
  {
   "cell_type": "code",
   "execution_count": 29,
   "id": "828187fe-d8dc-42b3-97b1-7e98769a5afc",
   "metadata": {},
   "outputs": [
    {
     "data": {
      "text/plain": [
       "0                55 Elm St, Wallaceburg, Ontario, N8A3M7\n",
       "1         1160 Old Abbey Lane, Oakville, Ontario, L6M1S4\n",
       "2          164 Mead Boulevard, Espanola, Ontario, P5E1S7\n",
       "3      4804 Aberarder Line RR 2, Camlachie, Ontario, ...\n",
       "4                55 Elm St, Wallaceburg, Ontario, N8A3M7\n",
       "                             ...                        \n",
       "107    3170 Middle Side Rd, Amherstburg, Ontario, N9V2Y9\n",
       "108             59 Lampman Lane, Barrie, Ontario, L4N5G4\n",
       "109                 91 Simcoe St, Angus, Ontario, L0M1B5\n",
       "110        250 Mark St, Sault Ste Marie, Ontario, P6A3M7\n",
       "111         60 Tillson Ave, Tillsonburg, Ontario, N4G3A1\n",
       "Name: address, Length: 112, dtype: object"
      ]
     },
     "execution_count": 29,
     "metadata": {},
     "output_type": "execute_result"
    }
   ],
   "source": [
    "df1"
   ]
  },
  {
   "cell_type": "code",
   "execution_count": 30,
   "id": "2bbea7b3",
   "metadata": {},
   "outputs": [],
   "source": [
    "df1 = df['address'].str.split(',', expand=True)"
   ]
  },
  {
   "cell_type": "code",
   "execution_count": 31,
   "id": "fddea16d-a38f-4311-8b8f-d185305f04c8",
   "metadata": {},
   "outputs": [
    {
     "data": {
      "text/html": [
       "<div>\n",
       "<style scoped>\n",
       "    .dataframe tbody tr th:only-of-type {\n",
       "        vertical-align: middle;\n",
       "    }\n",
       "\n",
       "    .dataframe tbody tr th {\n",
       "        vertical-align: top;\n",
       "    }\n",
       "\n",
       "    .dataframe thead th {\n",
       "        text-align: right;\n",
       "    }\n",
       "</style>\n",
       "<table border=\"1\" class=\"dataframe\">\n",
       "  <thead>\n",
       "    <tr style=\"text-align: right;\">\n",
       "      <th></th>\n",
       "      <th>0</th>\n",
       "      <th>1</th>\n",
       "      <th>2</th>\n",
       "      <th>3</th>\n",
       "      <th>4</th>\n",
       "    </tr>\n",
       "  </thead>\n",
       "  <tbody>\n",
       "    <tr>\n",
       "      <th>0</th>\n",
       "      <td>55 Elm St</td>\n",
       "      <td>Wallaceburg</td>\n",
       "      <td>Ontario</td>\n",
       "      <td>N8A3M7</td>\n",
       "      <td>None</td>\n",
       "    </tr>\n",
       "    <tr>\n",
       "      <th>1</th>\n",
       "      <td>1160 Old Abbey Lane</td>\n",
       "      <td>Oakville</td>\n",
       "      <td>Ontario</td>\n",
       "      <td>L6M1S4</td>\n",
       "      <td>None</td>\n",
       "    </tr>\n",
       "    <tr>\n",
       "      <th>2</th>\n",
       "      <td>164 Mead Boulevard</td>\n",
       "      <td>Espanola</td>\n",
       "      <td>Ontario</td>\n",
       "      <td>P5E1S7</td>\n",
       "      <td>None</td>\n",
       "    </tr>\n",
       "    <tr>\n",
       "      <th>3</th>\n",
       "      <td>4804 Aberarder Line RR 2</td>\n",
       "      <td>Camlachie</td>\n",
       "      <td>Ontario</td>\n",
       "      <td>N0N1E0</td>\n",
       "      <td>None</td>\n",
       "    </tr>\n",
       "    <tr>\n",
       "      <th>4</th>\n",
       "      <td>55 Elm St</td>\n",
       "      <td>Wallaceburg</td>\n",
       "      <td>Ontario</td>\n",
       "      <td>N8A3M7</td>\n",
       "      <td>None</td>\n",
       "    </tr>\n",
       "    <tr>\n",
       "      <th>...</th>\n",
       "      <td>...</td>\n",
       "      <td>...</td>\n",
       "      <td>...</td>\n",
       "      <td>...</td>\n",
       "      <td>...</td>\n",
       "    </tr>\n",
       "    <tr>\n",
       "      <th>107</th>\n",
       "      <td>3170 Middle Side Rd</td>\n",
       "      <td>Amherstburg</td>\n",
       "      <td>Ontario</td>\n",
       "      <td>N9V2Y9</td>\n",
       "      <td>None</td>\n",
       "    </tr>\n",
       "    <tr>\n",
       "      <th>108</th>\n",
       "      <td>59 Lampman Lane</td>\n",
       "      <td>Barrie</td>\n",
       "      <td>Ontario</td>\n",
       "      <td>L4N5G4</td>\n",
       "      <td>None</td>\n",
       "    </tr>\n",
       "    <tr>\n",
       "      <th>109</th>\n",
       "      <td>91 Simcoe St</td>\n",
       "      <td>Angus</td>\n",
       "      <td>Ontario</td>\n",
       "      <td>L0M1B5</td>\n",
       "      <td>None</td>\n",
       "    </tr>\n",
       "    <tr>\n",
       "      <th>110</th>\n",
       "      <td>250 Mark St</td>\n",
       "      <td>Sault Ste Marie</td>\n",
       "      <td>Ontario</td>\n",
       "      <td>P6A3M7</td>\n",
       "      <td>None</td>\n",
       "    </tr>\n",
       "    <tr>\n",
       "      <th>111</th>\n",
       "      <td>60 Tillson Ave</td>\n",
       "      <td>Tillsonburg</td>\n",
       "      <td>Ontario</td>\n",
       "      <td>N4G3A1</td>\n",
       "      <td>None</td>\n",
       "    </tr>\n",
       "  </tbody>\n",
       "</table>\n",
       "<p>112 rows × 5 columns</p>\n",
       "</div>"
      ],
      "text/plain": [
       "                            0                 1         2        3     4\n",
       "0                   55 Elm St       Wallaceburg   Ontario   N8A3M7  None\n",
       "1         1160 Old Abbey Lane          Oakville   Ontario   L6M1S4  None\n",
       "2          164 Mead Boulevard          Espanola   Ontario   P5E1S7  None\n",
       "3    4804 Aberarder Line RR 2         Camlachie   Ontario   N0N1E0  None\n",
       "4                   55 Elm St       Wallaceburg   Ontario   N8A3M7  None\n",
       "..                        ...               ...       ...      ...   ...\n",
       "107       3170 Middle Side Rd       Amherstburg   Ontario   N9V2Y9  None\n",
       "108           59 Lampman Lane            Barrie   Ontario   L4N5G4  None\n",
       "109              91 Simcoe St             Angus   Ontario   L0M1B5  None\n",
       "110               250 Mark St   Sault Ste Marie   Ontario   P6A3M7  None\n",
       "111            60 Tillson Ave       Tillsonburg   Ontario   N4G3A1  None\n",
       "\n",
       "[112 rows x 5 columns]"
      ]
     },
     "execution_count": 31,
     "metadata": {},
     "output_type": "execute_result"
    }
   ],
   "source": [
    "df1"
   ]
  },
  {
   "cell_type": "code",
   "execution_count": 9,
   "id": "eda3a4da",
   "metadata": {},
   "outputs": [
    {
     "name": "stdout",
     "output_type": "stream",
     "text": [
      "0\n",
      "1\n",
      "2\n",
      "3\n",
      "4\n"
     ]
    }
   ],
   "source": [
    "for col in df.columns:\n",
    "    print(col)"
   ]
  },
  {
   "cell_type": "code",
   "execution_count": 16,
   "id": "9b0032fd",
   "metadata": {},
   "outputs": [
    {
     "ename": "KeyError",
     "evalue": "\"['4'] not found in axis\"",
     "output_type": "error",
     "traceback": [
      "\u001b[0;31m---------------------------------------------------------------------------\u001b[0m",
      "\u001b[0;31mKeyError\u001b[0m                                  Traceback (most recent call last)",
      "\u001b[0;32m/tmp/ipykernel_343291/30057359.py\u001b[0m in \u001b[0;36m<module>\u001b[0;34m\u001b[0m\n\u001b[0;32m----> 1\u001b[0;31m \u001b[0mdf\u001b[0m \u001b[0;34m=\u001b[0m \u001b[0mdf\u001b[0m\u001b[0;34m.\u001b[0m\u001b[0mdrop\u001b[0m\u001b[0;34m(\u001b[0m\u001b[0;34m'4'\u001b[0m\u001b[0;34m)\u001b[0m\u001b[0;34m\u001b[0m\u001b[0;34m\u001b[0m\u001b[0m\n\u001b[0m",
      "\u001b[0;32m~/.local/lib/python3.8/site-packages/pandas/util/_decorators.py\u001b[0m in \u001b[0;36mwrapper\u001b[0;34m(*args, **kwargs)\u001b[0m\n\u001b[1;32m    309\u001b[0m                     \u001b[0mstacklevel\u001b[0m\u001b[0;34m=\u001b[0m\u001b[0mstacklevel\u001b[0m\u001b[0;34m,\u001b[0m\u001b[0;34m\u001b[0m\u001b[0;34m\u001b[0m\u001b[0m\n\u001b[1;32m    310\u001b[0m                 )\n\u001b[0;32m--> 311\u001b[0;31m             \u001b[0;32mreturn\u001b[0m \u001b[0mfunc\u001b[0m\u001b[0;34m(\u001b[0m\u001b[0;34m*\u001b[0m\u001b[0margs\u001b[0m\u001b[0;34m,\u001b[0m \u001b[0;34m**\u001b[0m\u001b[0mkwargs\u001b[0m\u001b[0;34m)\u001b[0m\u001b[0;34m\u001b[0m\u001b[0;34m\u001b[0m\u001b[0m\n\u001b[0m\u001b[1;32m    312\u001b[0m \u001b[0;34m\u001b[0m\u001b[0m\n\u001b[1;32m    313\u001b[0m         \u001b[0;32mreturn\u001b[0m \u001b[0mwrapper\u001b[0m\u001b[0;34m\u001b[0m\u001b[0;34m\u001b[0m\u001b[0m\n",
      "\u001b[0;32m~/.local/lib/python3.8/site-packages/pandas/core/frame.py\u001b[0m in \u001b[0;36mdrop\u001b[0;34m(self, labels, axis, index, columns, level, inplace, errors)\u001b[0m\n\u001b[1;32m   4904\u001b[0m                 \u001b[0mweight\u001b[0m  \u001b[0;36m1.0\u001b[0m     \u001b[0;36m0.8\u001b[0m\u001b[0;34m\u001b[0m\u001b[0;34m\u001b[0m\u001b[0m\n\u001b[1;32m   4905\u001b[0m         \"\"\"\n\u001b[0;32m-> 4906\u001b[0;31m         return super().drop(\n\u001b[0m\u001b[1;32m   4907\u001b[0m             \u001b[0mlabels\u001b[0m\u001b[0;34m=\u001b[0m\u001b[0mlabels\u001b[0m\u001b[0;34m,\u001b[0m\u001b[0;34m\u001b[0m\u001b[0;34m\u001b[0m\u001b[0m\n\u001b[1;32m   4908\u001b[0m             \u001b[0maxis\u001b[0m\u001b[0;34m=\u001b[0m\u001b[0maxis\u001b[0m\u001b[0;34m,\u001b[0m\u001b[0;34m\u001b[0m\u001b[0;34m\u001b[0m\u001b[0m\n",
      "\u001b[0;32m~/.local/lib/python3.8/site-packages/pandas/core/generic.py\u001b[0m in \u001b[0;36mdrop\u001b[0;34m(self, labels, axis, index, columns, level, inplace, errors)\u001b[0m\n\u001b[1;32m   4148\u001b[0m         \u001b[0;32mfor\u001b[0m \u001b[0maxis\u001b[0m\u001b[0;34m,\u001b[0m \u001b[0mlabels\u001b[0m \u001b[0;32min\u001b[0m \u001b[0maxes\u001b[0m\u001b[0;34m.\u001b[0m\u001b[0mitems\u001b[0m\u001b[0;34m(\u001b[0m\u001b[0;34m)\u001b[0m\u001b[0;34m:\u001b[0m\u001b[0;34m\u001b[0m\u001b[0;34m\u001b[0m\u001b[0m\n\u001b[1;32m   4149\u001b[0m             \u001b[0;32mif\u001b[0m \u001b[0mlabels\u001b[0m \u001b[0;32mis\u001b[0m \u001b[0;32mnot\u001b[0m \u001b[0;32mNone\u001b[0m\u001b[0;34m:\u001b[0m\u001b[0;34m\u001b[0m\u001b[0;34m\u001b[0m\u001b[0m\n\u001b[0;32m-> 4150\u001b[0;31m                 \u001b[0mobj\u001b[0m \u001b[0;34m=\u001b[0m \u001b[0mobj\u001b[0m\u001b[0;34m.\u001b[0m\u001b[0m_drop_axis\u001b[0m\u001b[0;34m(\u001b[0m\u001b[0mlabels\u001b[0m\u001b[0;34m,\u001b[0m \u001b[0maxis\u001b[0m\u001b[0;34m,\u001b[0m \u001b[0mlevel\u001b[0m\u001b[0;34m=\u001b[0m\u001b[0mlevel\u001b[0m\u001b[0;34m,\u001b[0m \u001b[0merrors\u001b[0m\u001b[0;34m=\u001b[0m\u001b[0merrors\u001b[0m\u001b[0;34m)\u001b[0m\u001b[0;34m\u001b[0m\u001b[0;34m\u001b[0m\u001b[0m\n\u001b[0m\u001b[1;32m   4151\u001b[0m \u001b[0;34m\u001b[0m\u001b[0m\n\u001b[1;32m   4152\u001b[0m         \u001b[0;32mif\u001b[0m \u001b[0minplace\u001b[0m\u001b[0;34m:\u001b[0m\u001b[0;34m\u001b[0m\u001b[0;34m\u001b[0m\u001b[0m\n",
      "\u001b[0;32m~/.local/lib/python3.8/site-packages/pandas/core/generic.py\u001b[0m in \u001b[0;36m_drop_axis\u001b[0;34m(self, labels, axis, level, errors)\u001b[0m\n\u001b[1;32m   4183\u001b[0m                 \u001b[0mnew_axis\u001b[0m \u001b[0;34m=\u001b[0m \u001b[0maxis\u001b[0m\u001b[0;34m.\u001b[0m\u001b[0mdrop\u001b[0m\u001b[0;34m(\u001b[0m\u001b[0mlabels\u001b[0m\u001b[0;34m,\u001b[0m \u001b[0mlevel\u001b[0m\u001b[0;34m=\u001b[0m\u001b[0mlevel\u001b[0m\u001b[0;34m,\u001b[0m \u001b[0merrors\u001b[0m\u001b[0;34m=\u001b[0m\u001b[0merrors\u001b[0m\u001b[0;34m)\u001b[0m\u001b[0;34m\u001b[0m\u001b[0;34m\u001b[0m\u001b[0m\n\u001b[1;32m   4184\u001b[0m             \u001b[0;32melse\u001b[0m\u001b[0;34m:\u001b[0m\u001b[0;34m\u001b[0m\u001b[0;34m\u001b[0m\u001b[0m\n\u001b[0;32m-> 4185\u001b[0;31m                 \u001b[0mnew_axis\u001b[0m \u001b[0;34m=\u001b[0m \u001b[0maxis\u001b[0m\u001b[0;34m.\u001b[0m\u001b[0mdrop\u001b[0m\u001b[0;34m(\u001b[0m\u001b[0mlabels\u001b[0m\u001b[0;34m,\u001b[0m \u001b[0merrors\u001b[0m\u001b[0;34m=\u001b[0m\u001b[0merrors\u001b[0m\u001b[0;34m)\u001b[0m\u001b[0;34m\u001b[0m\u001b[0;34m\u001b[0m\u001b[0m\n\u001b[0m\u001b[1;32m   4186\u001b[0m             \u001b[0mresult\u001b[0m \u001b[0;34m=\u001b[0m \u001b[0mself\u001b[0m\u001b[0;34m.\u001b[0m\u001b[0mreindex\u001b[0m\u001b[0;34m(\u001b[0m\u001b[0;34m**\u001b[0m\u001b[0;34m{\u001b[0m\u001b[0maxis_name\u001b[0m\u001b[0;34m:\u001b[0m \u001b[0mnew_axis\u001b[0m\u001b[0;34m}\u001b[0m\u001b[0;34m)\u001b[0m\u001b[0;34m\u001b[0m\u001b[0;34m\u001b[0m\u001b[0m\n\u001b[1;32m   4187\u001b[0m \u001b[0;34m\u001b[0m\u001b[0m\n",
      "\u001b[0;32m~/.local/lib/python3.8/site-packages/pandas/core/indexes/base.py\u001b[0m in \u001b[0;36mdrop\u001b[0;34m(self, labels, errors)\u001b[0m\n\u001b[1;32m   6015\u001b[0m         \u001b[0;32mif\u001b[0m \u001b[0mmask\u001b[0m\u001b[0;34m.\u001b[0m\u001b[0many\u001b[0m\u001b[0;34m(\u001b[0m\u001b[0;34m)\u001b[0m\u001b[0;34m:\u001b[0m\u001b[0;34m\u001b[0m\u001b[0;34m\u001b[0m\u001b[0m\n\u001b[1;32m   6016\u001b[0m             \u001b[0;32mif\u001b[0m \u001b[0merrors\u001b[0m \u001b[0;34m!=\u001b[0m \u001b[0;34m\"ignore\"\u001b[0m\u001b[0;34m:\u001b[0m\u001b[0;34m\u001b[0m\u001b[0;34m\u001b[0m\u001b[0m\n\u001b[0;32m-> 6017\u001b[0;31m                 \u001b[0;32mraise\u001b[0m \u001b[0mKeyError\u001b[0m\u001b[0;34m(\u001b[0m\u001b[0;34mf\"{labels[mask]} not found in axis\"\u001b[0m\u001b[0;34m)\u001b[0m\u001b[0;34m\u001b[0m\u001b[0;34m\u001b[0m\u001b[0m\n\u001b[0m\u001b[1;32m   6018\u001b[0m             \u001b[0mindexer\u001b[0m \u001b[0;34m=\u001b[0m \u001b[0mindexer\u001b[0m\u001b[0;34m[\u001b[0m\u001b[0;34m~\u001b[0m\u001b[0mmask\u001b[0m\u001b[0;34m]\u001b[0m\u001b[0;34m\u001b[0m\u001b[0;34m\u001b[0m\u001b[0m\n\u001b[1;32m   6019\u001b[0m         \u001b[0;32mreturn\u001b[0m \u001b[0mself\u001b[0m\u001b[0;34m.\u001b[0m\u001b[0mdelete\u001b[0m\u001b[0;34m(\u001b[0m\u001b[0mindexer\u001b[0m\u001b[0;34m)\u001b[0m\u001b[0;34m\u001b[0m\u001b[0;34m\u001b[0m\u001b[0m\n",
      "\u001b[0;31mKeyError\u001b[0m: \"['4'] not found in axis\""
     ]
    }
   ],
   "source": [
    "df = df.drop('4')"
   ]
  },
  {
   "cell_type": "code",
   "execution_count": 12,
   "id": "0dfd1040",
   "metadata": {},
   "outputs": [
    {
     "data": {
      "text/html": [
       "<div>\n",
       "<style scoped>\n",
       "    .dataframe tbody tr th:only-of-type {\n",
       "        vertical-align: middle;\n",
       "    }\n",
       "\n",
       "    .dataframe tbody tr th {\n",
       "        vertical-align: top;\n",
       "    }\n",
       "\n",
       "    .dataframe thead th {\n",
       "        text-align: right;\n",
       "    }\n",
       "</style>\n",
       "<table border=\"1\" class=\"dataframe\">\n",
       "  <thead>\n",
       "    <tr style=\"text-align: right;\">\n",
       "      <th></th>\n",
       "      <th>0</th>\n",
       "      <th>1</th>\n",
       "      <th>2</th>\n",
       "      <th>3</th>\n",
       "      <th>4</th>\n",
       "    </tr>\n",
       "  </thead>\n",
       "  <tbody>\n",
       "    <tr>\n",
       "      <th>0</th>\n",
       "      <td>55 Elm St</td>\n",
       "      <td>Wallaceburg</td>\n",
       "      <td>Ontario</td>\n",
       "      <td>N8A3M7</td>\n",
       "      <td>None</td>\n",
       "    </tr>\n",
       "    <tr>\n",
       "      <th>1</th>\n",
       "      <td>1160 Old Abbey Lane</td>\n",
       "      <td>Oakville</td>\n",
       "      <td>Ontario</td>\n",
       "      <td>L6M1S4</td>\n",
       "      <td>None</td>\n",
       "    </tr>\n",
       "    <tr>\n",
       "      <th>2</th>\n",
       "      <td>164 Mead Boulevard</td>\n",
       "      <td>Espanola</td>\n",
       "      <td>Ontario</td>\n",
       "      <td>P5E1S7</td>\n",
       "      <td>None</td>\n",
       "    </tr>\n",
       "    <tr>\n",
       "      <th>3</th>\n",
       "      <td>4804 Aberarder Line RR 2</td>\n",
       "      <td>Camlachie</td>\n",
       "      <td>Ontario</td>\n",
       "      <td>N0N1E0</td>\n",
       "      <td>None</td>\n",
       "    </tr>\n",
       "    <tr>\n",
       "      <th>5</th>\n",
       "      <td>1160 Old Abbey Lane</td>\n",
       "      <td>Oakville</td>\n",
       "      <td>Ontario</td>\n",
       "      <td>L6M1S4</td>\n",
       "      <td>None</td>\n",
       "    </tr>\n",
       "  </tbody>\n",
       "</table>\n",
       "</div>"
      ],
      "text/plain": [
       "                          0             1         2        3     4\n",
       "0                 55 Elm St   Wallaceburg   Ontario   N8A3M7  None\n",
       "1       1160 Old Abbey Lane      Oakville   Ontario   L6M1S4  None\n",
       "2        164 Mead Boulevard      Espanola   Ontario   P5E1S7  None\n",
       "3  4804 Aberarder Line RR 2     Camlachie   Ontario   N0N1E0  None\n",
       "5       1160 Old Abbey Lane      Oakville   Ontario   L6M1S4  None"
      ]
     },
     "execution_count": 12,
     "metadata": {},
     "output_type": "execute_result"
    }
   ],
   "source": [
    "df.head()"
   ]
  },
  {
   "cell_type": "code",
   "execution_count": null,
   "id": "7942717c",
   "metadata": {},
   "outputs": [],
   "source": []
  },
  {
   "cell_type": "code",
   "execution_count": 13,
   "id": "e53d3f8e",
   "metadata": {},
   "outputs": [],
   "source": [
    "df.drop(2, axis=1, inplace=True)"
   ]
  },
  {
   "cell_type": "code",
   "execution_count": 14,
   "id": "9e3c03ff",
   "metadata": {},
   "outputs": [],
   "source": [
    "str = '55 Elm St, Wallaceburg, Ontario, N8A3M7'"
   ]
  },
  {
   "cell_type": "code",
   "execution_count": 15,
   "id": "b725f476",
   "metadata": {},
   "outputs": [
    {
     "name": "stdout",
     "output_type": "stream",
     "text": [
      "['55 Elm St', ' Wallaceburg', ' Ontario', ' N8A3M7']\n"
     ]
    }
   ],
   "source": [
    "chunks = str.split(',')\n",
    "\n",
    "print(chunks)"
   ]
  },
  {
   "cell_type": "code",
   "execution_count": null,
   "id": "97ad7f5b",
   "metadata": {},
   "outputs": [],
   "source": []
  },
  {
   "cell_type": "code",
   "execution_count": 7,
   "id": "20960f21-5f57-4f1d-af57-e8d0a8f6608c",
   "metadata": {},
   "outputs": [],
   "source": [
    "# df[\"postal_code\"]"
   ]
  },
  {
   "cell_type": "code",
   "execution_count": 8,
   "id": "bde45a8b-e15e-4383-b1f8-d63b64bc04d0",
   "metadata": {},
   "outputs": [],
   "source": [
    "df = df.replace(',','', regex=True)"
   ]
  },
  {
   "cell_type": "code",
   "execution_count": 9,
   "id": "bf0311d1",
   "metadata": {},
   "outputs": [
    {
     "data": {
      "text/plain": [
       "0                   55 Elm St Wallaceburg Ontario N8A3M7\n",
       "1            1160 Old Abbey Lane Oakville Ontario L6M1S4\n",
       "2             164 Mead Boulevard Espanola Ontario P5E1S7\n",
       "3      4804 Aberarder Line RR 2 Camlachie Ontario N0N1E0\n",
       "4                   55 Elm St Wallaceburg Ontario N8A3M7\n",
       "                             ...                        \n",
       "107       3170 Middle Side Rd Amherstburg Ontario N9V2Y9\n",
       "108                59 Lampman Lane Barrie Ontario L4N5G4\n",
       "109                    91 Simcoe St Angus Ontario L0M1B5\n",
       "110           250 Mark St Sault Ste Marie Ontario P6A3M7\n",
       "111            60 Tillson Ave Tillsonburg Ontario N4G3A1\n",
       "Name: address, Length: 112, dtype: object"
      ]
     },
     "execution_count": 9,
     "metadata": {},
     "output_type": "execute_result"
    }
   ],
   "source": [
    "df[\"address\"]"
   ]
  },
  {
   "cell_type": "code",
   "execution_count": 10,
   "id": "6ca9f1bf-a066-494d-9634-8168ce84f6e1",
   "metadata": {},
   "outputs": [],
   "source": [
    "locator = Nominatim(user_agent=\"myGeocoder\")"
   ]
  },
  {
   "cell_type": "code",
   "execution_count": 11,
   "id": "d9b66ffb-dc4d-4b9b-a302-90de633cb841",
   "metadata": {},
   "outputs": [],
   "source": [
    "geocode = RateLimiter(locator.geocode, min_delay_seconds=1)"
   ]
  },
  {
   "cell_type": "code",
   "execution_count": 12,
   "id": "1619060b-3b5b-4364-a15e-5caebbec9868",
   "metadata": {},
   "outputs": [],
   "source": [
    "# df['location'] = df['address'].apply(geocode)"
   ]
  },
  {
   "cell_type": "code",
   "execution_count": 13,
   "id": "2e91bad1-9d8b-4a46-991a-9c484bd11414",
   "metadata": {},
   "outputs": [
    {
     "data": {
      "text/plain": [
       "0                                                   None\n",
       "1                                                   None\n",
       "2                                                   None\n",
       "3                                                   None\n",
       "4                                                   None\n",
       "                             ...                        \n",
       "107                                                 None\n",
       "108                                                 None\n",
       "109    (Angus Morrison Elementary School, 91, Simcoe ...\n",
       "110                                                 None\n",
       "111                                                 None\n",
       "Name: location, Length: 112, dtype: object"
      ]
     },
     "execution_count": 13,
     "metadata": {},
     "output_type": "execute_result"
    }
   ],
   "source": [
    "# df[\"location\"]"
   ]
  },
  {
   "cell_type": "code",
   "execution_count": 14,
   "id": "542320e4-6d95-414b-a572-f0ad4c480822",
   "metadata": {},
   "outputs": [],
   "source": [
    "# df['point'] = df['location'].apply(lambda loc: tuple(loc.point) if loc else None)"
   ]
  },
  {
   "cell_type": "code",
   "execution_count": 15,
   "id": "57340f26-0e1a-457f-97da-863885cf549b",
   "metadata": {},
   "outputs": [
    {
     "ename": "NameError",
     "evalue": "name 'getlatlong' is not defined",
     "output_type": "error",
     "traceback": [
      "\u001b[0;31m---------------------------------------------------------------------------\u001b[0m",
      "\u001b[0;31mNameError\u001b[0m                                 Traceback (most recent call last)",
      "\u001b[0;32m/tmp/ipykernel_197934/3902582610.py\u001b[0m in \u001b[0;36m<module>\u001b[0;34m\u001b[0m\n\u001b[0;32m----> 1\u001b[0;31m \u001b[0mdf\u001b[0m \u001b[0;34m=\u001b[0m \u001b[0mpd\u001b[0m\u001b[0;34m.\u001b[0m\u001b[0mconcat\u001b[0m\u001b[0;34m(\u001b[0m\u001b[0;34m(\u001b[0m\u001b[0mdf\u001b[0m\u001b[0;34m,\u001b[0m \u001b[0mdf\u001b[0m\u001b[0;34m.\u001b[0m\u001b[0maddress\u001b[0m\u001b[0;34m.\u001b[0m\u001b[0mapply\u001b[0m\u001b[0;34m(\u001b[0m\u001b[0mgetlatlong\u001b[0m\u001b[0;34m)\u001b[0m\u001b[0;34m)\u001b[0m\u001b[0;34m,\u001b[0m \u001b[0maxis\u001b[0m\u001b[0;34m=\u001b[0m\u001b[0;36m1\u001b[0m\u001b[0;34m)\u001b[0m\u001b[0;34m\u001b[0m\u001b[0;34m\u001b[0m\u001b[0m\n\u001b[0m",
      "\u001b[0;31mNameError\u001b[0m: name 'getlatlong' is not defined"
     ]
    }
   ],
   "source": [
    "# df = pd.concat((df, df.address.apply(getlatlong)), axis=1)"
   ]
  },
  {
   "cell_type": "code",
   "execution_count": null,
   "id": "a1460606-ff49-4a51-bcb6-eb1acc6c79a6",
   "metadata": {},
   "outputs": [],
   "source": [
    "# df[['latitude', 'longitude', 'altitude']] = pd.DataFrame(df['point'].tolist(), index=df.index)"
   ]
  },
  {
   "cell_type": "code",
   "execution_count": 19,
   "id": "5910b40e-f9ac-4b8b-a5e7-04c266d5d7f4",
   "metadata": {},
   "outputs": [],
   "source": [
    "nomi = pgeocode.Nominatim('ca')"
   ]
  },
  {
   "cell_type": "code",
   "execution_count": 21,
   "id": "21d7cdf4-c296-4d77-82ae-9bd2b7f13eee",
   "metadata": {},
   "outputs": [
    {
     "name": "stdout",
     "output_type": "stream",
     "text": [
      "42.593 -82.3885\n"
     ]
    }
   ],
   "source": [
    "postal_code = \"N8A 3M7\"\n",
    "location = nomi.query_postal_code(postal_code)\n",
    "print(location.latitude, location.longitude)"
   ]
  },
  {
   "cell_type": "code",
   "execution_count": null,
   "id": "b2f8a556-857e-4f26-819b-6ba4d2ba29cb",
   "metadata": {},
   "outputs": [],
   "source": []
  },
  {
   "cell_type": "code",
   "execution_count": null,
   "id": "aed0f2f7-d639-4cf0-858d-33be907448ce",
   "metadata": {},
   "outputs": [],
   "source": []
  }
 ],
 "metadata": {
  "kernelspec": {
   "display_name": "Python 3 (ipykernel)",
   "language": "python",
   "name": "python3"
  },
  "language_info": {
   "codemirror_mode": {
    "name": "ipython",
    "version": 3
   },
   "file_extension": ".py",
   "mimetype": "text/x-python",
   "name": "python",
   "nbconvert_exporter": "python",
   "pygments_lexer": "ipython3",
   "version": "3.8.12"
  }
 },
 "nbformat": 4,
 "nbformat_minor": 5
}
