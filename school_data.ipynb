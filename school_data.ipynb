{
 "cells": [
  {
   "cell_type": "code",
   "execution_count": 20,
   "id": "2b249d1a-616b-42d6-9f0b-de39d157df87",
   "metadata": {},
   "outputs": [],
   "source": [
    "from geopy.geocoders import Nominatim\n",
    "import pandas as pd\n",
    "from geopy.extra.rate_limiter import RateLimiter"
   ]
  },
  {
   "cell_type": "code",
   "execution_count": 21,
   "id": "7d6b50b9-ac52-441e-9acf-83ec51ba6995",
   "metadata": {},
   "outputs": [],
   "source": [
    "df = pd.read_csv(\"/home/saaisri/Desktop/tact/Flask/School-nearby/elementary-info.csv\")"
   ]
  },
  {
   "cell_type": "code",
   "execution_count": 22,
   "id": "34b81554-2052-45a6-b2c4-362e71460c38",
   "metadata": {},
   "outputs": [],
   "source": [
    "geolocator = Nominatim(user_agent=\"my_request\")"
   ]
  },
  {
   "cell_type": "code",
   "execution_count": 23,
   "id": "7aa6d983-cca2-441b-b7d0-8c79c7eefbb1",
   "metadata": {},
   "outputs": [
    {
     "data": {
      "text/html": [
       "<div>\n",
       "<style scoped>\n",
       "    .dataframe tbody tr th:only-of-type {\n",
       "        vertical-align: middle;\n",
       "    }\n",
       "\n",
       "    .dataframe tbody tr th {\n",
       "        vertical-align: top;\n",
       "    }\n",
       "\n",
       "    .dataframe thead th {\n",
       "        text-align: right;\n",
       "    }\n",
       "</style>\n",
       "<table border=\"1\" class=\"dataframe\">\n",
       "  <thead>\n",
       "    <tr style=\"text-align: right;\">\n",
       "      <th></th>\n",
       "      <th>name</th>\n",
       "      <th>address</th>\n",
       "      <th>website</th>\n",
       "      <th>postal_code</th>\n",
       "      <th>G3</th>\n",
       "      <th>G6</th>\n",
       "      <th>school_level</th>\n",
       "    </tr>\n",
       "  </thead>\n",
       "  <tbody>\n",
       "    <tr>\n",
       "      <th>0</th>\n",
       "      <td>Abbey Lane Public School (Oakville)</td>\n",
       "      <td>55 Elm St, Wallaceburg, Ontario, N8A3M7</td>\n",
       "      <td>http://aawright.lkdsb.net/</td>\n",
       "      <td>N8A3M7</td>\n",
       "      <td>72.5</td>\n",
       "      <td>77.333333</td>\n",
       "      <td>Elementary</td>\n",
       "    </tr>\n",
       "    <tr>\n",
       "      <th>1</th>\n",
       "      <td>A B Ellis Public School (Espanola)</td>\n",
       "      <td>1160 Old Abbey Lane, Oakville, Ontario, L6M1S4</td>\n",
       "      <td>http://abb.hdsb.ca/</td>\n",
       "      <td>L6M1S4</td>\n",
       "      <td>72.5</td>\n",
       "      <td>77.333333</td>\n",
       "      <td>Elementary</td>\n",
       "    </tr>\n",
       "    <tr>\n",
       "      <th>2</th>\n",
       "      <td>Aberarder Central School (Camlachie)</td>\n",
       "      <td>164 Mead Boulevard, Espanola, Ontario, P5E1S7</td>\n",
       "      <td>http://www.rainbowschools.ca/elementary/ab_ell...</td>\n",
       "      <td>P5E1S7</td>\n",
       "      <td>72.5</td>\n",
       "      <td>77.333333</td>\n",
       "      <td>Elementary</td>\n",
       "    </tr>\n",
       "    <tr>\n",
       "      <th>3</th>\n",
       "      <td>Aberdeen Public School (London)</td>\n",
       "      <td>4804 Aberarder Line RR 2, Camlachie, Ontario, ...</td>\n",
       "      <td>http://aberarder.lkdsb.net/</td>\n",
       "      <td>N0N1E0</td>\n",
       "      <td>72.5</td>\n",
       "      <td>77.333333</td>\n",
       "      <td>Elementary</td>\n",
       "    </tr>\n",
       "    <tr>\n",
       "      <th>4</th>\n",
       "      <td>Abbey Lane Public School (Oakville)</td>\n",
       "      <td>55 Elm St, Wallaceburg, Ontario, N8A3M7</td>\n",
       "      <td>http://aawright.lkdsb.net/</td>\n",
       "      <td>N8A3M7</td>\n",
       "      <td>72.5</td>\n",
       "      <td>77.333333</td>\n",
       "      <td>Elementary</td>\n",
       "    </tr>\n",
       "  </tbody>\n",
       "</table>\n",
       "</div>"
      ],
      "text/plain": [
       "                                   name  \\\n",
       "0   Abbey Lane Public School (Oakville)   \n",
       "1    A B Ellis Public School (Espanola)   \n",
       "2  Aberarder Central School (Camlachie)   \n",
       "3       Aberdeen Public School (London)   \n",
       "4   Abbey Lane Public School (Oakville)   \n",
       "\n",
       "                                             address  \\\n",
       "0            55 Elm St, Wallaceburg, Ontario, N8A3M7   \n",
       "1     1160 Old Abbey Lane, Oakville, Ontario, L6M1S4   \n",
       "2      164 Mead Boulevard, Espanola, Ontario, P5E1S7   \n",
       "3  4804 Aberarder Line RR 2, Camlachie, Ontario, ...   \n",
       "4            55 Elm St, Wallaceburg, Ontario, N8A3M7   \n",
       "\n",
       "                                             website postal_code    G3  \\\n",
       "0                         http://aawright.lkdsb.net/      N8A3M7  72.5   \n",
       "1                                http://abb.hdsb.ca/      L6M1S4  72.5   \n",
       "2  http://www.rainbowschools.ca/elementary/ab_ell...      P5E1S7  72.5   \n",
       "3                        http://aberarder.lkdsb.net/      N0N1E0  72.5   \n",
       "4                         http://aawright.lkdsb.net/      N8A3M7  72.5   \n",
       "\n",
       "          G6 school_level  \n",
       "0  77.333333   Elementary  \n",
       "1  77.333333   Elementary  \n",
       "2  77.333333   Elementary  \n",
       "3  77.333333   Elementary  \n",
       "4  77.333333   Elementary  "
      ]
     },
     "execution_count": 23,
     "metadata": {},
     "output_type": "execute_result"
    }
   ],
   "source": [
    "df.head()"
   ]
  },
  {
   "cell_type": "code",
   "execution_count": 24,
   "id": "20960f21-5f57-4f1d-af57-e8d0a8f6608c",
   "metadata": {},
   "outputs": [
    {
     "data": {
      "text/plain": [
       "0                55 Elm St, Wallaceburg, Ontario, N8A3M7\n",
       "1         1160 Old Abbey Lane, Oakville, Ontario, L6M1S4\n",
       "2          164 Mead Boulevard, Espanola, Ontario, P5E1S7\n",
       "3      4804 Aberarder Line RR 2, Camlachie, Ontario, ...\n",
       "4                55 Elm St, Wallaceburg, Ontario, N8A3M7\n",
       "                             ...                        \n",
       "107    3170 Middle Side Rd, Amherstburg, Ontario, N9V2Y9\n",
       "108             59 Lampman Lane, Barrie, Ontario, L4N5G4\n",
       "109                 91 Simcoe St, Angus, Ontario, L0M1B5\n",
       "110        250 Mark St, Sault Ste Marie, Ontario, P6A3M7\n",
       "111         60 Tillson Ave, Tillsonburg, Ontario, N4G3A1\n",
       "Name: address, Length: 112, dtype: object"
      ]
     },
     "execution_count": 24,
     "metadata": {},
     "output_type": "execute_result"
    }
   ],
   "source": [
    "df[\"address\"]"
   ]
  },
  {
   "cell_type": "code",
   "execution_count": 29,
   "id": "6ca9f1bf-a066-494d-9634-8168ce84f6e1",
   "metadata": {},
   "outputs": [],
   "source": [
    "locator = Nominatim(user_agent=\"myGeocoder\")"
   ]
  },
  {
   "cell_type": "code",
   "execution_count": 30,
   "id": "d9b66ffb-dc4d-4b9b-a302-90de633cb841",
   "metadata": {},
   "outputs": [],
   "source": [
    "geocode = RateLimiter(locator.geocode, min_delay_seconds=1)"
   ]
  },
  {
   "cell_type": "code",
   "execution_count": null,
   "id": "1619060b-3b5b-4364-a15e-5caebbec9868",
   "metadata": {},
   "outputs": [],
   "source": [
    "df['location'] = df['address'].apply(geocode)"
   ]
  },
  {
   "cell_type": "code",
   "execution_count": null,
   "id": "2e91bad1-9d8b-4a46-991a-9c484bd11414",
   "metadata": {},
   "outputs": [],
   "source": [
    "df['location']"
   ]
  },
  {
   "cell_type": "code",
   "execution_count": null,
   "id": "542320e4-6d95-414b-a572-f0ad4c480822",
   "metadata": {},
   "outputs": [],
   "source": [
    "df['point'] = df['location'].apply(lambda loc: tuple(loc.point) if loc else None)"
   ]
  },
  {
   "cell_type": "code",
   "execution_count": null,
   "id": "a1460606-ff49-4a51-bcb6-eb1acc6c79a6",
   "metadata": {},
   "outputs": [],
   "source": [
    "df[['latitude', 'longitude']] = pd.DataFrame(df['point'].tolist(), index=df.index)"
   ]
  },
  {
   "cell_type": "code",
   "execution_count": null,
   "id": "5910b40e-f9ac-4b8b-a5e7-04c266d5d7f4",
   "metadata": {},
   "outputs": [],
   "source": []
  },
  {
   "cell_type": "code",
   "execution_count": 16,
   "id": "09802b85-0086-4180-b02c-4ad322b70e5c",
   "metadata": {},
   "outputs": [],
   "source": [
    "loc =  '' "
   ]
  },
  {
   "cell_type": "code",
   "execution_count": 17,
   "id": "449f2dfe-fe22-42ba-a1c0-507f8a471ce9",
   "metadata": {},
   "outputs": [],
   "source": [
    "# def lat_lon(loc):\n",
    "\n",
    "#     #making an instance of Nominatim class\n",
    "#     geolocator = Nominatim(user_agent=\"my_request\")\n",
    "    \n",
    "#     #applying geocode method to get the location\n",
    "#     location = geolocator.geocode(loc)\n",
    "    \n",
    "#     return location"
   ]
  },
  {
   "cell_type": "code",
   "execution_count": 18,
   "id": "724c655a-5268-4812-8028-cab41b55a255",
   "metadata": {},
   "outputs": [
    {
     "ename": "AttributeError",
     "evalue": "'NoneType' object has no attribute 'latitude'",
     "output_type": "error",
     "traceback": [
      "\u001b[0;31m---------------------------------------------------------------------------\u001b[0m",
      "\u001b[0;31mAttributeError\u001b[0m                            Traceback (most recent call last)",
      "\u001b[0;32m/tmp/ipykernel_328411/861234311.py\u001b[0m in \u001b[0;36m<module>\u001b[0;34m\u001b[0m\n\u001b[1;32m      1\u001b[0m \u001b[0;32mfor\u001b[0m \u001b[0mi\u001b[0m \u001b[0;32min\u001b[0m \u001b[0mrange\u001b[0m\u001b[0;34m(\u001b[0m\u001b[0mlen\u001b[0m\u001b[0;34m(\u001b[0m\u001b[0mdf\u001b[0m\u001b[0;34m[\u001b[0m\u001b[0;34m\"address\"\u001b[0m\u001b[0;34m]\u001b[0m\u001b[0;34m)\u001b[0m\u001b[0;34m)\u001b[0m\u001b[0;34m:\u001b[0m\u001b[0;34m\u001b[0m\u001b[0;34m\u001b[0m\u001b[0m\n\u001b[1;32m      2\u001b[0m     \u001b[0mloc\u001b[0m \u001b[0;34m=\u001b[0m \u001b[0mlat_lon\u001b[0m\u001b[0;34m(\u001b[0m\u001b[0mdf\u001b[0m\u001b[0;34m[\u001b[0m\u001b[0;34m\"address\"\u001b[0m\u001b[0;34m]\u001b[0m\u001b[0;34m.\u001b[0m\u001b[0miloc\u001b[0m\u001b[0;34m[\u001b[0m\u001b[0mi\u001b[0m\u001b[0;34m]\u001b[0m\u001b[0;34m)\u001b[0m\u001b[0;34m\u001b[0m\u001b[0;34m\u001b[0m\u001b[0m\n\u001b[0;32m----> 3\u001b[0;31m     \u001b[0mlat\u001b[0m\u001b[0;34m.\u001b[0m\u001b[0mappend\u001b[0m\u001b[0;34m(\u001b[0m\u001b[0mloc\u001b[0m\u001b[0;34m.\u001b[0m\u001b[0mlatitude\u001b[0m\u001b[0;34m)\u001b[0m\u001b[0;34m\u001b[0m\u001b[0;34m\u001b[0m\u001b[0m\n\u001b[0m\u001b[1;32m      4\u001b[0m     \u001b[0mlon\u001b[0m\u001b[0;34m.\u001b[0m\u001b[0mappend\u001b[0m\u001b[0;34m(\u001b[0m\u001b[0mloc\u001b[0m\u001b[0;34m.\u001b[0m\u001b[0mlongitude\u001b[0m\u001b[0;34m)\u001b[0m\u001b[0;34m\u001b[0m\u001b[0;34m\u001b[0m\u001b[0m\n",
      "\u001b[0;31mAttributeError\u001b[0m: 'NoneType' object has no attribute 'latitude'"
     ]
    }
   ],
   "source": [
    "# for i in range(len(df[\"address\"])):\n",
    "#     loc = lat_lon(df[\"address\"].iloc[i]) \n",
    "#     lat.append(loc.latitude)\n",
    "#     lon.append(loc.longitude)"
   ]
  },
  {
   "cell_type": "code",
   "execution_count": null,
   "id": "21d7cdf4-c296-4d77-82ae-9bd2b7f13eee",
   "metadata": {},
   "outputs": [],
   "source": []
  },
  {
   "cell_type": "code",
   "execution_count": null,
   "id": "b2f8a556-857e-4f26-819b-6ba4d2ba29cb",
   "metadata": {},
   "outputs": [],
   "source": []
  },
  {
   "cell_type": "code",
   "execution_count": null,
   "id": "aed0f2f7-d639-4cf0-858d-33be907448ce",
   "metadata": {},
   "outputs": [],
   "source": []
  }
 ],
 "metadata": {
  "kernelspec": {
   "display_name": "Python 3 (ipykernel)",
   "language": "python",
   "name": "python3"
  },
  "language_info": {
   "codemirror_mode": {
    "name": "ipython",
    "version": 3
   },
   "file_extension": ".py",
   "mimetype": "text/x-python",
   "name": "python",
   "nbconvert_exporter": "python",
   "pygments_lexer": "ipython3",
   "version": "3.8.12"
  }
 },
 "nbformat": 4,
 "nbformat_minor": 5
}
