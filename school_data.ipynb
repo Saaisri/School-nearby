{
 "cells": [
  {
   "cell_type": "code",
   "execution_count": 54,
   "id": "d82ebbc4",
   "metadata": {},
   "outputs": [],
   "source": [
    "import pgeocode"
   ]
  },
  {
   "cell_type": "code",
   "execution_count": 55,
   "id": "2b249d1a-616b-42d6-9f0b-de39d157df87",
   "metadata": {},
   "outputs": [],
   "source": [
    "from geopy.geocoders import Nominatim\n",
    "import pandas as pd\n",
    "from geopy.extra.rate_limiter import RateLimiter"
   ]
  },
  {
   "cell_type": "code",
   "execution_count": 56,
   "id": "7d6b50b9-ac52-441e-9acf-83ec51ba6995",
   "metadata": {},
   "outputs": [],
   "source": [
    "df = pd.read_csv(\"/home/saaisri/Desktop/tact/Flask/School-nearby/elementary-info.csv\")"
   ]
  },
  {
   "cell_type": "code",
   "execution_count": 57,
   "id": "34b81554-2052-45a6-b2c4-362e71460c38",
   "metadata": {},
   "outputs": [],
   "source": [
    "geolocator = Nominatim(user_agent=\"my_request\")"
   ]
  },
  {
   "cell_type": "code",
   "execution_count": 58,
   "id": "7aa6d983-cca2-441b-b7d0-8c79c7eefbb1",
   "metadata": {},
   "outputs": [
    {
     "data": {
      "text/html": [
       "<div>\n",
       "<style scoped>\n",
       "    .dataframe tbody tr th:only-of-type {\n",
       "        vertical-align: middle;\n",
       "    }\n",
       "\n",
       "    .dataframe tbody tr th {\n",
       "        vertical-align: top;\n",
       "    }\n",
       "\n",
       "    .dataframe thead th {\n",
       "        text-align: right;\n",
       "    }\n",
       "</style>\n",
       "<table border=\"1\" class=\"dataframe\">\n",
       "  <thead>\n",
       "    <tr style=\"text-align: right;\">\n",
       "      <th></th>\n",
       "      <th>name</th>\n",
       "      <th>address</th>\n",
       "      <th>website</th>\n",
       "      <th>postal_code</th>\n",
       "      <th>G3</th>\n",
       "      <th>G6</th>\n",
       "      <th>school_level</th>\n",
       "    </tr>\n",
       "  </thead>\n",
       "  <tbody>\n",
       "    <tr>\n",
       "      <th>0</th>\n",
       "      <td>Abbey Lane Public School (Oakville)</td>\n",
       "      <td>55 Elm St, Wallaceburg, Ontario, N8A3M7</td>\n",
       "      <td>http://aawright.lkdsb.net/</td>\n",
       "      <td>N8A3M7</td>\n",
       "      <td>72.5</td>\n",
       "      <td>77.333333</td>\n",
       "      <td>Elementary</td>\n",
       "    </tr>\n",
       "    <tr>\n",
       "      <th>1</th>\n",
       "      <td>A B Ellis Public School (Espanola)</td>\n",
       "      <td>1160 Old Abbey Lane, Oakville, Ontario, L6M1S4</td>\n",
       "      <td>http://abb.hdsb.ca/</td>\n",
       "      <td>L6M1S4</td>\n",
       "      <td>72.5</td>\n",
       "      <td>77.333333</td>\n",
       "      <td>Elementary</td>\n",
       "    </tr>\n",
       "    <tr>\n",
       "      <th>2</th>\n",
       "      <td>Aberarder Central School (Camlachie)</td>\n",
       "      <td>164 Mead Boulevard, Espanola, Ontario, P5E1S7</td>\n",
       "      <td>http://www.rainbowschools.ca/elementary/ab_ell...</td>\n",
       "      <td>P5E1S7</td>\n",
       "      <td>72.5</td>\n",
       "      <td>77.333333</td>\n",
       "      <td>Elementary</td>\n",
       "    </tr>\n",
       "    <tr>\n",
       "      <th>3</th>\n",
       "      <td>Aberdeen Public School (London)</td>\n",
       "      <td>4804 Aberarder Line RR 2, Camlachie, Ontario, ...</td>\n",
       "      <td>http://aberarder.lkdsb.net/</td>\n",
       "      <td>N0N1E0</td>\n",
       "      <td>72.5</td>\n",
       "      <td>77.333333</td>\n",
       "      <td>Elementary</td>\n",
       "    </tr>\n",
       "    <tr>\n",
       "      <th>4</th>\n",
       "      <td>Abbey Lane Public School (Oakville)</td>\n",
       "      <td>55 Elm St, Wallaceburg, Ontario, N8A3M7</td>\n",
       "      <td>http://aawright.lkdsb.net/</td>\n",
       "      <td>N8A3M7</td>\n",
       "      <td>72.5</td>\n",
       "      <td>77.333333</td>\n",
       "      <td>Elementary</td>\n",
       "    </tr>\n",
       "  </tbody>\n",
       "</table>\n",
       "</div>"
      ],
      "text/plain": [
       "                                   name  \\\n",
       "0   Abbey Lane Public School (Oakville)   \n",
       "1    A B Ellis Public School (Espanola)   \n",
       "2  Aberarder Central School (Camlachie)   \n",
       "3       Aberdeen Public School (London)   \n",
       "4   Abbey Lane Public School (Oakville)   \n",
       "\n",
       "                                             address  \\\n",
       "0            55 Elm St, Wallaceburg, Ontario, N8A3M7   \n",
       "1     1160 Old Abbey Lane, Oakville, Ontario, L6M1S4   \n",
       "2      164 Mead Boulevard, Espanola, Ontario, P5E1S7   \n",
       "3  4804 Aberarder Line RR 2, Camlachie, Ontario, ...   \n",
       "4            55 Elm St, Wallaceburg, Ontario, N8A3M7   \n",
       "\n",
       "                                             website postal_code    G3  \\\n",
       "0                         http://aawright.lkdsb.net/      N8A3M7  72.5   \n",
       "1                                http://abb.hdsb.ca/      L6M1S4  72.5   \n",
       "2  http://www.rainbowschools.ca/elementary/ab_ell...      P5E1S7  72.5   \n",
       "3                        http://aberarder.lkdsb.net/      N0N1E0  72.5   \n",
       "4                         http://aawright.lkdsb.net/      N8A3M7  72.5   \n",
       "\n",
       "          G6 school_level  \n",
       "0  77.333333   Elementary  \n",
       "1  77.333333   Elementary  \n",
       "2  77.333333   Elementary  \n",
       "3  77.333333   Elementary  \n",
       "4  77.333333   Elementary  "
      ]
     },
     "execution_count": 58,
     "metadata": {},
     "output_type": "execute_result"
    }
   ],
   "source": [
    "df.head()"
   ]
  },
  {
   "cell_type": "code",
   "execution_count": 59,
   "id": "d3065689-5020-4c65-b133-aec55a83c382",
   "metadata": {},
   "outputs": [],
   "source": [
    "df1 = pd.DataFrame(df.address.str.split(',',2).tolist(), columns = ['house','street','city'])"
   ]
  },
  {
   "cell_type": "code",
   "execution_count": 60,
   "id": "1bd36e6e-d1c7-4c26-9c4f-ac4b7530139a",
   "metadata": {},
   "outputs": [
    {
     "data": {
      "text/html": [
       "<div>\n",
       "<style scoped>\n",
       "    .dataframe tbody tr th:only-of-type {\n",
       "        vertical-align: middle;\n",
       "    }\n",
       "\n",
       "    .dataframe tbody tr th {\n",
       "        vertical-align: top;\n",
       "    }\n",
       "\n",
       "    .dataframe thead th {\n",
       "        text-align: right;\n",
       "    }\n",
       "</style>\n",
       "<table border=\"1\" class=\"dataframe\">\n",
       "  <thead>\n",
       "    <tr style=\"text-align: right;\">\n",
       "      <th></th>\n",
       "      <th>house</th>\n",
       "      <th>street</th>\n",
       "      <th>city</th>\n",
       "    </tr>\n",
       "  </thead>\n",
       "  <tbody>\n",
       "    <tr>\n",
       "      <th>0</th>\n",
       "      <td>55 Elm St</td>\n",
       "      <td>Wallaceburg</td>\n",
       "      <td>Ontario, N8A3M7</td>\n",
       "    </tr>\n",
       "    <tr>\n",
       "      <th>1</th>\n",
       "      <td>1160 Old Abbey Lane</td>\n",
       "      <td>Oakville</td>\n",
       "      <td>Ontario, L6M1S4</td>\n",
       "    </tr>\n",
       "    <tr>\n",
       "      <th>2</th>\n",
       "      <td>164 Mead Boulevard</td>\n",
       "      <td>Espanola</td>\n",
       "      <td>Ontario, P5E1S7</td>\n",
       "    </tr>\n",
       "    <tr>\n",
       "      <th>3</th>\n",
       "      <td>4804 Aberarder Line RR 2</td>\n",
       "      <td>Camlachie</td>\n",
       "      <td>Ontario, N0N1E0</td>\n",
       "    </tr>\n",
       "    <tr>\n",
       "      <th>4</th>\n",
       "      <td>55 Elm St</td>\n",
       "      <td>Wallaceburg</td>\n",
       "      <td>Ontario, N8A3M7</td>\n",
       "    </tr>\n",
       "    <tr>\n",
       "      <th>...</th>\n",
       "      <td>...</td>\n",
       "      <td>...</td>\n",
       "      <td>...</td>\n",
       "    </tr>\n",
       "    <tr>\n",
       "      <th>107</th>\n",
       "      <td>3170 Middle Side Rd</td>\n",
       "      <td>Amherstburg</td>\n",
       "      <td>Ontario, N9V2Y9</td>\n",
       "    </tr>\n",
       "    <tr>\n",
       "      <th>108</th>\n",
       "      <td>59 Lampman Lane</td>\n",
       "      <td>Barrie</td>\n",
       "      <td>Ontario, L4N5G4</td>\n",
       "    </tr>\n",
       "    <tr>\n",
       "      <th>109</th>\n",
       "      <td>91 Simcoe St</td>\n",
       "      <td>Angus</td>\n",
       "      <td>Ontario, L0M1B5</td>\n",
       "    </tr>\n",
       "    <tr>\n",
       "      <th>110</th>\n",
       "      <td>250 Mark St</td>\n",
       "      <td>Sault Ste Marie</td>\n",
       "      <td>Ontario, P6A3M7</td>\n",
       "    </tr>\n",
       "    <tr>\n",
       "      <th>111</th>\n",
       "      <td>60 Tillson Ave</td>\n",
       "      <td>Tillsonburg</td>\n",
       "      <td>Ontario, N4G3A1</td>\n",
       "    </tr>\n",
       "  </tbody>\n",
       "</table>\n",
       "<p>112 rows × 3 columns</p>\n",
       "</div>"
      ],
      "text/plain": [
       "                        house            street              city\n",
       "0                   55 Elm St       Wallaceburg   Ontario, N8A3M7\n",
       "1         1160 Old Abbey Lane          Oakville   Ontario, L6M1S4\n",
       "2          164 Mead Boulevard          Espanola   Ontario, P5E1S7\n",
       "3    4804 Aberarder Line RR 2         Camlachie   Ontario, N0N1E0\n",
       "4                   55 Elm St       Wallaceburg   Ontario, N8A3M7\n",
       "..                        ...               ...               ...\n",
       "107       3170 Middle Side Rd       Amherstburg   Ontario, N9V2Y9\n",
       "108           59 Lampman Lane            Barrie   Ontario, L4N5G4\n",
       "109              91 Simcoe St             Angus   Ontario, L0M1B5\n",
       "110               250 Mark St   Sault Ste Marie   Ontario, P6A3M7\n",
       "111            60 Tillson Ave       Tillsonburg   Ontario, N4G3A1\n",
       "\n",
       "[112 rows x 3 columns]"
      ]
     },
     "execution_count": 60,
     "metadata": {},
     "output_type": "execute_result"
    }
   ],
   "source": [
    "df1"
   ]
  },
  {
   "cell_type": "code",
   "execution_count": 119,
   "id": "2ba17f50-095b-4e50-b9d5-50d6bace1a51",
   "metadata": {},
   "outputs": [],
   "source": [
    "df2['address'] = df1['house'] + ', ' + df1['street']"
   ]
  },
  {
   "cell_type": "code",
   "execution_count": 120,
   "id": "60cce31c-e015-4f2b-b831-ad880c310d30",
   "metadata": {},
   "outputs": [],
   "source": [
    "df1['address'] = df2['address']"
   ]
  },
  {
   "cell_type": "code",
   "execution_count": 121,
   "id": "2c0efd2c-12a0-4d02-8107-195928daf7c8",
   "metadata": {},
   "outputs": [],
   "source": [
    "locator = Nominatim(user_agent=\"myGeocoder\" , timeout=3)"
   ]
  },
  {
   "cell_type": "code",
   "execution_count": 122,
   "id": "690d5578-e52b-4e72-9591-09c246cb4f9f",
   "metadata": {},
   "outputs": [],
   "source": [
    "geocode = RateLimiter(locator.geocode, min_delay_seconds=1)"
   ]
  },
  {
   "cell_type": "code",
   "execution_count": 123,
   "id": "1eabd510-0085-4d82-b794-f35c43f5b00f",
   "metadata": {},
   "outputs": [],
   "source": [
    "df2['location'] = df2['address'].apply(geocode)"
   ]
  },
  {
   "cell_type": "code",
   "execution_count": 124,
   "id": "f5a76cce-ed2d-4a57-9085-635013e0acf3",
   "metadata": {},
   "outputs": [],
   "source": [
    "df2['point'] = df2['location'].apply(lambda loc: tuple(loc.point) if loc else None)"
   ]
  },
  {
   "cell_type": "code",
   "execution_count": 125,
   "id": "ad1fdbcc-d4e0-4fe4-aa99-49f4c7b92042",
   "metadata": {},
   "outputs": [
    {
     "data": {
      "text/plain": [
       "0                                              None\n",
       "1             (43.4452237, -79.71171024315106, 0.0)\n",
       "2            (46.26216935, -81.76787771521754, 0.0)\n",
       "3                                              None\n",
       "4                                              None\n",
       "                          ...                      \n",
       "84    (43.532527099999996, -79.70966491738527, 0.0)\n",
       "85            (43.89563275, -78.9647178590759, 0.0)\n",
       "86                                             None\n",
       "87              (45.2322722, -76.197032833884, 0.0)\n",
       "88           (43.70814495, -79.70434270164037, 0.0)\n",
       "Name: point, Length: 89, dtype: object"
      ]
     },
     "execution_count": 125,
     "metadata": {},
     "output_type": "execute_result"
    }
   ],
   "source": [
    "df2['point']"
   ]
  },
  {
   "cell_type": "code",
   "execution_count": 126,
   "id": "4c049f59-bf56-4702-a9df-01089e3f6ecc",
   "metadata": {},
   "outputs": [],
   "source": [
    "data = df2['point'].tolist()"
   ]
  },
  {
   "cell_type": "code",
   "execution_count": 128,
   "id": "be4d99a5-2b3e-41ca-845c-f11befe0a807",
   "metadata": {},
   "outputs": [
    {
     "ename": "ValueError",
     "evalue": "Shape of passed values is (89, 1), indices imply (89, 3)",
     "output_type": "error",
     "traceback": [
      "\u001b[0;31m---------------------------------------------------------------------------\u001b[0m",
      "\u001b[0;31mValueError\u001b[0m                                Traceback (most recent call last)",
      "\u001b[0;32m/tmp/ipykernel_292698/2827687770.py\u001b[0m in \u001b[0;36m<module>\u001b[0;34m\u001b[0m\n\u001b[0;32m----> 1\u001b[0;31m \u001b[0mdf3\u001b[0m \u001b[0;34m=\u001b[0m \u001b[0mpd\u001b[0m\u001b[0;34m.\u001b[0m\u001b[0mDataFrame\u001b[0m\u001b[0;34m(\u001b[0m\u001b[0mdata\u001b[0m\u001b[0;34m,\u001b[0m \u001b[0mcolumns\u001b[0m \u001b[0;34m=\u001b[0m \u001b[0;34m[\u001b[0m\u001b[0;34m'latitude'\u001b[0m\u001b[0;34m,\u001b[0m \u001b[0;34m'longitude'\u001b[0m\u001b[0;34m,\u001b[0m \u001b[0;34m'altitude'\u001b[0m\u001b[0;34m]\u001b[0m\u001b[0;34m)\u001b[0m\u001b[0;34m\u001b[0m\u001b[0;34m\u001b[0m\u001b[0m\n\u001b[0m",
      "\u001b[0;32m~/.local/lib/python3.8/site-packages/pandas/core/frame.py\u001b[0m in \u001b[0;36m__init__\u001b[0;34m(self, data, index, columns, dtype, copy)\u001b[0m\n\u001b[1;32m    709\u001b[0m                     )\n\u001b[1;32m    710\u001b[0m                 \u001b[0;32melse\u001b[0m\u001b[0;34m:\u001b[0m\u001b[0;34m\u001b[0m\u001b[0;34m\u001b[0m\u001b[0m\n\u001b[0;32m--> 711\u001b[0;31m                     mgr = ndarray_to_mgr(\n\u001b[0m\u001b[1;32m    712\u001b[0m                         \u001b[0mdata\u001b[0m\u001b[0;34m,\u001b[0m\u001b[0;34m\u001b[0m\u001b[0;34m\u001b[0m\u001b[0m\n\u001b[1;32m    713\u001b[0m                         \u001b[0mindex\u001b[0m\u001b[0;34m,\u001b[0m\u001b[0;34m\u001b[0m\u001b[0;34m\u001b[0m\u001b[0m\n",
      "\u001b[0;32m~/.local/lib/python3.8/site-packages/pandas/core/internals/construction.py\u001b[0m in \u001b[0;36mndarray_to_mgr\u001b[0;34m(values, index, columns, dtype, copy, typ)\u001b[0m\n\u001b[1;32m    322\u001b[0m     )\n\u001b[1;32m    323\u001b[0m \u001b[0;34m\u001b[0m\u001b[0m\n\u001b[0;32m--> 324\u001b[0;31m     \u001b[0m_check_values_indices_shape_match\u001b[0m\u001b[0;34m(\u001b[0m\u001b[0mvalues\u001b[0m\u001b[0;34m,\u001b[0m \u001b[0mindex\u001b[0m\u001b[0;34m,\u001b[0m \u001b[0mcolumns\u001b[0m\u001b[0;34m)\u001b[0m\u001b[0;34m\u001b[0m\u001b[0;34m\u001b[0m\u001b[0m\n\u001b[0m\u001b[1;32m    325\u001b[0m \u001b[0;34m\u001b[0m\u001b[0m\n\u001b[1;32m    326\u001b[0m     \u001b[0;32mif\u001b[0m \u001b[0mtyp\u001b[0m \u001b[0;34m==\u001b[0m \u001b[0;34m\"array\"\u001b[0m\u001b[0;34m:\u001b[0m\u001b[0;34m\u001b[0m\u001b[0;34m\u001b[0m\u001b[0m\n",
      "\u001b[0;32m~/.local/lib/python3.8/site-packages/pandas/core/internals/construction.py\u001b[0m in \u001b[0;36m_check_values_indices_shape_match\u001b[0;34m(values, index, columns)\u001b[0m\n\u001b[1;32m    391\u001b[0m         \u001b[0mpassed\u001b[0m \u001b[0;34m=\u001b[0m \u001b[0mvalues\u001b[0m\u001b[0;34m.\u001b[0m\u001b[0mshape\u001b[0m\u001b[0;34m\u001b[0m\u001b[0;34m\u001b[0m\u001b[0m\n\u001b[1;32m    392\u001b[0m         \u001b[0mimplied\u001b[0m \u001b[0;34m=\u001b[0m \u001b[0;34m(\u001b[0m\u001b[0mlen\u001b[0m\u001b[0;34m(\u001b[0m\u001b[0mindex\u001b[0m\u001b[0;34m)\u001b[0m\u001b[0;34m,\u001b[0m \u001b[0mlen\u001b[0m\u001b[0;34m(\u001b[0m\u001b[0mcolumns\u001b[0m\u001b[0;34m)\u001b[0m\u001b[0;34m)\u001b[0m\u001b[0;34m\u001b[0m\u001b[0;34m\u001b[0m\u001b[0m\n\u001b[0;32m--> 393\u001b[0;31m         \u001b[0;32mraise\u001b[0m \u001b[0mValueError\u001b[0m\u001b[0;34m(\u001b[0m\u001b[0;34mf\"Shape of passed values is {passed}, indices imply {implied}\"\u001b[0m\u001b[0;34m)\u001b[0m\u001b[0;34m\u001b[0m\u001b[0;34m\u001b[0m\u001b[0m\n\u001b[0m\u001b[1;32m    394\u001b[0m \u001b[0;34m\u001b[0m\u001b[0m\n\u001b[1;32m    395\u001b[0m \u001b[0;34m\u001b[0m\u001b[0m\n",
      "\u001b[0;31mValueError\u001b[0m: Shape of passed values is (89, 1), indices imply (89, 3)"
     ]
    }
   ],
   "source": [
    "df3 = pd.DataFrame(data, columns = ['latitude', 'longitude', 'altitude'])"
   ]
  },
  {
   "cell_type": "code",
   "execution_count": 129,
   "id": "4cc30e46-a799-4137-a28d-b82b69bf45a6",
   "metadata": {},
   "outputs": [
    {
     "data": {
      "text/html": [
       "<div>\n",
       "<style scoped>\n",
       "    .dataframe tbody tr th:only-of-type {\n",
       "        vertical-align: middle;\n",
       "    }\n",
       "\n",
       "    .dataframe tbody tr th {\n",
       "        vertical-align: top;\n",
       "    }\n",
       "\n",
       "    .dataframe thead th {\n",
       "        text-align: right;\n",
       "    }\n",
       "</style>\n",
       "<table border=\"1\" class=\"dataframe\">\n",
       "  <thead>\n",
       "    <tr style=\"text-align: right;\">\n",
       "      <th></th>\n",
       "      <th>latitude</th>\n",
       "      <th>longitude</th>\n",
       "      <th>altitude</th>\n",
       "    </tr>\n",
       "  </thead>\n",
       "  <tbody>\n",
       "    <tr>\n",
       "      <th>0</th>\n",
       "      <td>43.445224</td>\n",
       "      <td>-79.711710</td>\n",
       "      <td>0.0</td>\n",
       "    </tr>\n",
       "    <tr>\n",
       "      <th>1</th>\n",
       "      <td>46.262169</td>\n",
       "      <td>-81.767878</td>\n",
       "      <td>0.0</td>\n",
       "    </tr>\n",
       "    <tr>\n",
       "      <th>2</th>\n",
       "      <td>43.445224</td>\n",
       "      <td>-79.711710</td>\n",
       "      <td>0.0</td>\n",
       "    </tr>\n",
       "    <tr>\n",
       "      <th>3</th>\n",
       "      <td>46.262169</td>\n",
       "      <td>-81.767878</td>\n",
       "      <td>0.0</td>\n",
       "    </tr>\n",
       "    <tr>\n",
       "      <th>4</th>\n",
       "      <td>42.981474</td>\n",
       "      <td>-81.229795</td>\n",
       "      <td>0.0</td>\n",
       "    </tr>\n",
       "  </tbody>\n",
       "</table>\n",
       "</div>"
      ],
      "text/plain": [
       "    latitude  longitude  altitude\n",
       "0  43.445224 -79.711710       0.0\n",
       "1  46.262169 -81.767878       0.0\n",
       "2  43.445224 -79.711710       0.0\n",
       "3  46.262169 -81.767878       0.0\n",
       "4  42.981474 -81.229795       0.0"
      ]
     },
     "execution_count": 129,
     "metadata": {},
     "output_type": "execute_result"
    }
   ],
   "source": [
    "df3.head()"
   ]
  },
  {
   "cell_type": "code",
   "execution_count": 133,
   "id": "a1c5110b-299c-4478-a887-e2b2b1bcdf5f",
   "metadata": {},
   "outputs": [
    {
     "data": {
      "text/plain": [
       "latitude     89\n",
       "longitude    89\n",
       "altitude     89\n",
       "dtype: int64"
      ]
     },
     "execution_count": 133,
     "metadata": {},
     "output_type": "execute_result"
    }
   ],
   "source": [
    "df3.count()"
   ]
  },
  {
   "cell_type": "code",
   "execution_count": 130,
   "id": "83ce7369-5a68-4f9a-8109-419491b59968",
   "metadata": {},
   "outputs": [
    {
     "data": {
      "text/html": [
       "<div>\n",
       "<style scoped>\n",
       "    .dataframe tbody tr th:only-of-type {\n",
       "        vertical-align: middle;\n",
       "    }\n",
       "\n",
       "    .dataframe tbody tr th {\n",
       "        vertical-align: top;\n",
       "    }\n",
       "\n",
       "    .dataframe thead th {\n",
       "        text-align: right;\n",
       "    }\n",
       "</style>\n",
       "<table border=\"1\" class=\"dataframe\">\n",
       "  <thead>\n",
       "    <tr style=\"text-align: right;\">\n",
       "      <th></th>\n",
       "      <th>house</th>\n",
       "      <th>street</th>\n",
       "      <th>city</th>\n",
       "      <th>address</th>\n",
       "    </tr>\n",
       "  </thead>\n",
       "  <tbody>\n",
       "    <tr>\n",
       "      <th>0</th>\n",
       "      <td>55 Elm St</td>\n",
       "      <td>Wallaceburg</td>\n",
       "      <td>Ontario, N8A3M7</td>\n",
       "      <td>55 Elm St,  Wallaceburg</td>\n",
       "    </tr>\n",
       "    <tr>\n",
       "      <th>1</th>\n",
       "      <td>1160 Old Abbey Lane</td>\n",
       "      <td>Oakville</td>\n",
       "      <td>Ontario, L6M1S4</td>\n",
       "      <td>1160 Old Abbey Lane,  Oakville</td>\n",
       "    </tr>\n",
       "    <tr>\n",
       "      <th>2</th>\n",
       "      <td>164 Mead Boulevard</td>\n",
       "      <td>Espanola</td>\n",
       "      <td>Ontario, P5E1S7</td>\n",
       "      <td>164 Mead Boulevard,  Espanola</td>\n",
       "    </tr>\n",
       "    <tr>\n",
       "      <th>3</th>\n",
       "      <td>4804 Aberarder Line RR 2</td>\n",
       "      <td>Camlachie</td>\n",
       "      <td>Ontario, N0N1E0</td>\n",
       "      <td>4804 Aberarder Line RR 2,  Camlachie</td>\n",
       "    </tr>\n",
       "    <tr>\n",
       "      <th>4</th>\n",
       "      <td>55 Elm St</td>\n",
       "      <td>Wallaceburg</td>\n",
       "      <td>Ontario, N8A3M7</td>\n",
       "      <td>55 Elm St,  Wallaceburg</td>\n",
       "    </tr>\n",
       "  </tbody>\n",
       "</table>\n",
       "</div>"
      ],
      "text/plain": [
       "                      house        street              city  \\\n",
       "0                 55 Elm St   Wallaceburg   Ontario, N8A3M7   \n",
       "1       1160 Old Abbey Lane      Oakville   Ontario, L6M1S4   \n",
       "2        164 Mead Boulevard      Espanola   Ontario, P5E1S7   \n",
       "3  4804 Aberarder Line RR 2     Camlachie   Ontario, N0N1E0   \n",
       "4                 55 Elm St   Wallaceburg   Ontario, N8A3M7   \n",
       "\n",
       "                                address  \n",
       "0               55 Elm St,  Wallaceburg  \n",
       "1        1160 Old Abbey Lane,  Oakville  \n",
       "2         164 Mead Boulevard,  Espanola  \n",
       "3  4804 Aberarder Line RR 2,  Camlachie  \n",
       "4               55 Elm St,  Wallaceburg  "
      ]
     },
     "execution_count": 130,
     "metadata": {},
     "output_type": "execute_result"
    }
   ],
   "source": [
    "df1.head()"
   ]
  },
  {
   "cell_type": "code",
   "execution_count": 131,
   "id": "9b142b9a-7b3a-47eb-999c-38c08684fd99",
   "metadata": {},
   "outputs": [
    {
     "data": {
      "text/plain": [
       "house      object\n",
       "street     object\n",
       "city       object\n",
       "address    object\n",
       "dtype: object"
      ]
     },
     "execution_count": 131,
     "metadata": {},
     "output_type": "execute_result"
    }
   ],
   "source": []
  },
  {
   "cell_type": "code",
   "execution_count": 115,
   "id": "46279b3f-76a6-4297-9e45-e8aa3be98686",
   "metadata": {},
   "outputs": [],
   "source": []
  },
  {
   "cell_type": "code",
   "execution_count": 116,
   "id": "0cbfa0b5-7739-47c8-a707-43dd57f34fde",
   "metadata": {},
   "outputs": [
    {
     "data": {
      "text/html": [
       "<div>\n",
       "<style scoped>\n",
       "    .dataframe tbody tr th:only-of-type {\n",
       "        vertical-align: middle;\n",
       "    }\n",
       "\n",
       "    .dataframe tbody tr th {\n",
       "        vertical-align: top;\n",
       "    }\n",
       "\n",
       "    .dataframe thead th {\n",
       "        text-align: right;\n",
       "    }\n",
       "</style>\n",
       "<table border=\"1\" class=\"dataframe\">\n",
       "  <thead>\n",
       "    <tr style=\"text-align: right;\">\n",
       "      <th></th>\n",
       "      <th>address</th>\n",
       "      <th>altitude</th>\n",
       "      <th>city</th>\n",
       "      <th>house</th>\n",
       "      <th>latitude</th>\n",
       "      <th>longitude</th>\n",
       "      <th>street</th>\n",
       "    </tr>\n",
       "  </thead>\n",
       "  <tbody>\n",
       "    <tr>\n",
       "      <th>0</th>\n",
       "      <td>NaN</td>\n",
       "      <td>NaN</td>\n",
       "      <td>NaN</td>\n",
       "      <td>NaN</td>\n",
       "      <td>NaN</td>\n",
       "      <td>NaN</td>\n",
       "      <td>NaN</td>\n",
       "    </tr>\n",
       "    <tr>\n",
       "      <th>1</th>\n",
       "      <td>NaN</td>\n",
       "      <td>NaN</td>\n",
       "      <td>NaN</td>\n",
       "      <td>NaN</td>\n",
       "      <td>NaN</td>\n",
       "      <td>NaN</td>\n",
       "      <td>NaN</td>\n",
       "    </tr>\n",
       "    <tr>\n",
       "      <th>2</th>\n",
       "      <td>NaN</td>\n",
       "      <td>NaN</td>\n",
       "      <td>NaN</td>\n",
       "      <td>NaN</td>\n",
       "      <td>NaN</td>\n",
       "      <td>NaN</td>\n",
       "      <td>NaN</td>\n",
       "    </tr>\n",
       "    <tr>\n",
       "      <th>3</th>\n",
       "      <td>NaN</td>\n",
       "      <td>NaN</td>\n",
       "      <td>NaN</td>\n",
       "      <td>NaN</td>\n",
       "      <td>NaN</td>\n",
       "      <td>NaN</td>\n",
       "      <td>NaN</td>\n",
       "    </tr>\n",
       "    <tr>\n",
       "      <th>4</th>\n",
       "      <td>NaN</td>\n",
       "      <td>NaN</td>\n",
       "      <td>NaN</td>\n",
       "      <td>NaN</td>\n",
       "      <td>NaN</td>\n",
       "      <td>NaN</td>\n",
       "      <td>NaN</td>\n",
       "    </tr>\n",
       "    <tr>\n",
       "      <th>...</th>\n",
       "      <td>...</td>\n",
       "      <td>...</td>\n",
       "      <td>...</td>\n",
       "      <td>...</td>\n",
       "      <td>...</td>\n",
       "      <td>...</td>\n",
       "      <td>...</td>\n",
       "    </tr>\n",
       "    <tr>\n",
       "      <th>107</th>\n",
       "      <td>NaN</td>\n",
       "      <td>NaN</td>\n",
       "      <td>NaN</td>\n",
       "      <td>NaN</td>\n",
       "      <td>NaN</td>\n",
       "      <td>NaN</td>\n",
       "      <td>NaN</td>\n",
       "    </tr>\n",
       "    <tr>\n",
       "      <th>108</th>\n",
       "      <td>NaN</td>\n",
       "      <td>NaN</td>\n",
       "      <td>NaN</td>\n",
       "      <td>NaN</td>\n",
       "      <td>NaN</td>\n",
       "      <td>NaN</td>\n",
       "      <td>NaN</td>\n",
       "    </tr>\n",
       "    <tr>\n",
       "      <th>109</th>\n",
       "      <td>NaN</td>\n",
       "      <td>NaN</td>\n",
       "      <td>NaN</td>\n",
       "      <td>NaN</td>\n",
       "      <td>NaN</td>\n",
       "      <td>NaN</td>\n",
       "      <td>NaN</td>\n",
       "    </tr>\n",
       "    <tr>\n",
       "      <th>110</th>\n",
       "      <td>NaN</td>\n",
       "      <td>NaN</td>\n",
       "      <td>NaN</td>\n",
       "      <td>NaN</td>\n",
       "      <td>NaN</td>\n",
       "      <td>NaN</td>\n",
       "      <td>NaN</td>\n",
       "    </tr>\n",
       "    <tr>\n",
       "      <th>111</th>\n",
       "      <td>NaN</td>\n",
       "      <td>NaN</td>\n",
       "      <td>NaN</td>\n",
       "      <td>NaN</td>\n",
       "      <td>NaN</td>\n",
       "      <td>NaN</td>\n",
       "      <td>NaN</td>\n",
       "    </tr>\n",
       "  </tbody>\n",
       "</table>\n",
       "<p>112 rows × 7 columns</p>\n",
       "</div>"
      ],
      "text/plain": [
       "    address  altitude city house  latitude  longitude street\n",
       "0       NaN       NaN  NaN   NaN       NaN        NaN    NaN\n",
       "1       NaN       NaN  NaN   NaN       NaN        NaN    NaN\n",
       "2       NaN       NaN  NaN   NaN       NaN        NaN    NaN\n",
       "3       NaN       NaN  NaN   NaN       NaN        NaN    NaN\n",
       "4       NaN       NaN  NaN   NaN       NaN        NaN    NaN\n",
       "..      ...       ...  ...   ...       ...        ...    ...\n",
       "107     NaN       NaN  NaN   NaN       NaN        NaN    NaN\n",
       "108     NaN       NaN  NaN   NaN       NaN        NaN    NaN\n",
       "109     NaN       NaN  NaN   NaN       NaN        NaN    NaN\n",
       "110     NaN       NaN  NaN   NaN       NaN        NaN    NaN\n",
       "111     NaN       NaN  NaN   NaN       NaN        NaN    NaN\n",
       "\n",
       "[112 rows x 7 columns]"
      ]
     },
     "execution_count": 116,
     "metadata": {},
     "output_type": "execute_result"
    }
   ],
   "source": []
  },
  {
   "cell_type": "code",
   "execution_count": 112,
   "id": "66f6ba5a-6f19-41b2-9dd1-737bcaf1bdcd",
   "metadata": {},
   "outputs": [
    {
     "ename": "TypeError",
     "evalue": "Can only merge Series or DataFrame objects, a <class 'list'> was passed",
     "output_type": "error",
     "traceback": [
      "\u001b[0;31m---------------------------------------------------------------------------\u001b[0m",
      "\u001b[0;31mTypeError\u001b[0m                                 Traceback (most recent call last)",
      "\u001b[0;32m/tmp/ipykernel_292698/4014155293.py\u001b[0m in \u001b[0;36m<module>\u001b[0;34m\u001b[0m\n\u001b[0;32m----> 1\u001b[0;31m \u001b[0mdf\u001b[0m \u001b[0;34m=\u001b[0m \u001b[0mpd\u001b[0m\u001b[0;34m.\u001b[0m\u001b[0mmerge\u001b[0m\u001b[0;34m(\u001b[0m\u001b[0mdf\u001b[0m\u001b[0;34m,\u001b[0m \u001b[0mdf3\u001b[0m\u001b[0;34m)\u001b[0m\u001b[0;34m\u001b[0m\u001b[0;34m\u001b[0m\u001b[0m\n\u001b[0m",
      "\u001b[0;32m~/.local/lib/python3.8/site-packages/pandas/core/reshape/merge.py\u001b[0m in \u001b[0;36mmerge\u001b[0;34m(left, right, how, on, left_on, right_on, left_index, right_index, sort, suffixes, copy, indicator, validate)\u001b[0m\n\u001b[1;32m    104\u001b[0m     \u001b[0mvalidate\u001b[0m\u001b[0;34m:\u001b[0m \u001b[0mstr\u001b[0m \u001b[0;34m|\u001b[0m \u001b[0;32mNone\u001b[0m \u001b[0;34m=\u001b[0m \u001b[0;32mNone\u001b[0m\u001b[0;34m,\u001b[0m\u001b[0;34m\u001b[0m\u001b[0;34m\u001b[0m\u001b[0m\n\u001b[1;32m    105\u001b[0m ) -> DataFrame:\n\u001b[0;32m--> 106\u001b[0;31m     op = _MergeOperation(\n\u001b[0m\u001b[1;32m    107\u001b[0m         \u001b[0mleft\u001b[0m\u001b[0;34m,\u001b[0m\u001b[0;34m\u001b[0m\u001b[0;34m\u001b[0m\u001b[0m\n\u001b[1;32m    108\u001b[0m         \u001b[0mright\u001b[0m\u001b[0;34m,\u001b[0m\u001b[0;34m\u001b[0m\u001b[0;34m\u001b[0m\u001b[0m\n",
      "\u001b[0;32m~/.local/lib/python3.8/site-packages/pandas/core/reshape/merge.py\u001b[0m in \u001b[0;36m__init__\u001b[0;34m(self, left, right, how, on, left_on, right_on, axis, left_index, right_index, sort, suffixes, copy, indicator, validate)\u001b[0m\n\u001b[1;32m    625\u001b[0m         \u001b[0mvalidate\u001b[0m\u001b[0;34m:\u001b[0m \u001b[0mstr\u001b[0m \u001b[0;34m|\u001b[0m \u001b[0;32mNone\u001b[0m \u001b[0;34m=\u001b[0m \u001b[0;32mNone\u001b[0m\u001b[0;34m,\u001b[0m\u001b[0;34m\u001b[0m\u001b[0;34m\u001b[0m\u001b[0m\n\u001b[1;32m    626\u001b[0m     ):\n\u001b[0;32m--> 627\u001b[0;31m         \u001b[0m_left\u001b[0m \u001b[0;34m=\u001b[0m \u001b[0m_validate_operand\u001b[0m\u001b[0;34m(\u001b[0m\u001b[0mleft\u001b[0m\u001b[0;34m)\u001b[0m\u001b[0;34m\u001b[0m\u001b[0;34m\u001b[0m\u001b[0m\n\u001b[0m\u001b[1;32m    628\u001b[0m         \u001b[0m_right\u001b[0m \u001b[0;34m=\u001b[0m \u001b[0m_validate_operand\u001b[0m\u001b[0;34m(\u001b[0m\u001b[0mright\u001b[0m\u001b[0;34m)\u001b[0m\u001b[0;34m\u001b[0m\u001b[0;34m\u001b[0m\u001b[0m\n\u001b[1;32m    629\u001b[0m         \u001b[0mself\u001b[0m\u001b[0;34m.\u001b[0m\u001b[0mleft\u001b[0m \u001b[0;34m=\u001b[0m \u001b[0mself\u001b[0m\u001b[0;34m.\u001b[0m\u001b[0morig_left\u001b[0m \u001b[0;34m=\u001b[0m \u001b[0m_left\u001b[0m\u001b[0;34m\u001b[0m\u001b[0;34m\u001b[0m\u001b[0m\n",
      "\u001b[0;32m~/.local/lib/python3.8/site-packages/pandas/core/reshape/merge.py\u001b[0m in \u001b[0;36m_validate_operand\u001b[0;34m(obj)\u001b[0m\n\u001b[1;32m   2274\u001b[0m             \u001b[0;32mreturn\u001b[0m \u001b[0mobj\u001b[0m\u001b[0;34m.\u001b[0m\u001b[0mto_frame\u001b[0m\u001b[0;34m(\u001b[0m\u001b[0;34m)\u001b[0m\u001b[0;34m\u001b[0m\u001b[0;34m\u001b[0m\u001b[0m\n\u001b[1;32m   2275\u001b[0m     \u001b[0;32melse\u001b[0m\u001b[0;34m:\u001b[0m\u001b[0;34m\u001b[0m\u001b[0;34m\u001b[0m\u001b[0m\n\u001b[0;32m-> 2276\u001b[0;31m         raise TypeError(\n\u001b[0m\u001b[1;32m   2277\u001b[0m             \u001b[0;34mf\"Can only merge Series or DataFrame objects, a {type(obj)} was passed\"\u001b[0m\u001b[0;34m\u001b[0m\u001b[0;34m\u001b[0m\u001b[0m\n\u001b[1;32m   2278\u001b[0m         )\n",
      "\u001b[0;31mTypeError\u001b[0m: Can only merge Series or DataFrame objects, a <class 'list'> was passed"
     ]
    }
   ],
   "source": [
    "df = pd.merge(df, df3)"
   ]
  },
  {
   "cell_type": "code",
   "execution_count": null,
   "id": "1c6a4d69-a523-4a95-99d8-3e704d1ba6c7",
   "metadata": {},
   "outputs": [],
   "source": []
  },
  {
   "cell_type": "code",
   "execution_count": null,
   "id": "cd50fa0d-fbf8-44c7-b4d8-5853ef4b7dc7",
   "metadata": {},
   "outputs": [],
   "source": [
    "# df2[['latitude', 'longitude', 'altitude']] = pd.DataFrame(df2['point'].tolist(), index=df.index)"
   ]
  },
  {
   "cell_type": "code",
   "execution_count": null,
   "id": "6ca9f1bf-a066-494d-9634-8168ce84f6e1",
   "metadata": {},
   "outputs": [],
   "source": [
    "# locator = Nominatim(user_agent=\"myGeocoder\")"
   ]
  },
  {
   "cell_type": "code",
   "execution_count": null,
   "id": "d9b66ffb-dc4d-4b9b-a302-90de633cb841",
   "metadata": {},
   "outputs": [],
   "source": [
    "# geocode = RateLimiter(locator.geocode, min_delay_seconds=1)"
   ]
  },
  {
   "cell_type": "code",
   "execution_count": null,
   "id": "3e6d3daf-c665-4856-9542-ab7beef329c0",
   "metadata": {},
   "outputs": [],
   "source": [
    "# lat = []\n",
    "# lon = []"
   ]
  },
  {
   "cell_type": "code",
   "execution_count": null,
   "id": "dee0c0dc-8a41-46ca-ba43-1ff348cd2940",
   "metadata": {},
   "outputs": [],
   "source": [
    "# for i in range(len(df2)):\n",
    "#     loc = lat_lon(df2.iloc[i, 1]) \n",
    "#     lat.append(loc.latitude)\n",
    "#     lon.append(loc.longitude)\n",
    "# loc_df.assign(latitude = lat)\n",
    "# loc_df.assign(longitude = lon)"
   ]
  },
  {
   "cell_type": "code",
   "execution_count": null,
   "id": "1619060b-3b5b-4364-a15e-5caebbec9868",
   "metadata": {},
   "outputs": [],
   "source": [
    "# df['location'] = df['address'].apply(geocode)"
   ]
  },
  {
   "cell_type": "code",
   "execution_count": null,
   "id": "2e91bad1-9d8b-4a46-991a-9c484bd11414",
   "metadata": {},
   "outputs": [],
   "source": [
    "# df[\"location\"]"
   ]
  },
  {
   "cell_type": "code",
   "execution_count": null,
   "id": "542320e4-6d95-414b-a572-f0ad4c480822",
   "metadata": {},
   "outputs": [],
   "source": [
    "# df['point'] = df['location'].apply(lambda loc: tuple(loc.point) if loc else None)"
   ]
  },
  {
   "cell_type": "code",
   "execution_count": null,
   "id": "b2f8a556-857e-4f26-819b-6ba4d2ba29cb",
   "metadata": {},
   "outputs": [],
   "source": []
  },
  {
   "cell_type": "code",
   "execution_count": null,
   "id": "aed0f2f7-d639-4cf0-858d-33be907448ce",
   "metadata": {},
   "outputs": [],
   "source": []
  }
 ],
 "metadata": {
  "kernelspec": {
   "display_name": "Python 3 (ipykernel)",
   "language": "python",
   "name": "python3"
  },
  "language_info": {
   "codemirror_mode": {
    "name": "ipython",
    "version": 3
   },
   "file_extension": ".py",
   "mimetype": "text/x-python",
   "name": "python",
   "nbconvert_exporter": "python",
   "pygments_lexer": "ipython3",
   "version": "3.8.12"
  }
 },
 "nbformat": 4,
 "nbformat_minor": 5
}
